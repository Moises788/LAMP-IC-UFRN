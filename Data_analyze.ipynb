{
  "cells": [
    {
      "cell_type": "markdown",
      "metadata": {
        "id": "view-in-github",
        "colab_type": "text"
      },
      "source": [
        "<a href=\"https://colab.research.google.com/github/Moises788/LAMP-IC-UFRN/blob/main/Data_analyze.ipynb\" target=\"_parent\"><img src=\"https://colab.research.google.com/assets/colab-badge.svg\" alt=\"Open In Colab\"/></a>"
      ]
    },
    {
      "cell_type": "markdown",
      "source": [
        "#**Mudanças e Melhorias a serem feitas**#\n",
        "* Identificar e corrigir o problema do timestemp\n"
      ],
      "metadata": {
        "id": "tkXzjB6BRyn-"
      }
    },
    {
      "cell_type": "markdown",
      "source": [
        "##Bibliotecas Utilizadas"
      ],
      "metadata": {
        "id": "4Kzday3kv1t3"
      }
    },
    {
      "cell_type": "code",
      "execution_count": 61,
      "metadata": {
        "id": "LtxWwd8jgKws"
      },
      "outputs": [],
      "source": [
        "import matplotlib.pyplot as plt\n",
        "from datetime import datetime\n",
        "import matplotlib as mcolors\n",
        "import seaborn as sns\n",
        "import pandas as pd\n",
        "import numpy as np\n",
        "\n",
        "%matplotlib inline"
      ]
    },
    {
      "cell_type": "code",
      "execution_count": 62,
      "metadata": {
        "id": "8OgrwI5EBA2w"
      },
      "outputs": [],
      "source": [
        "dados_controle =  'https://raw.githubusercontent.com/Moises788/LAMP-IC-UFRN/main/Rodada441/dados.csv'\n",
        "dados_rede = 'https://raw.githubusercontent.com/Moises788/LAMP-IC-UFRN/main/Rodada441/pwlogger.csv'"
      ]
    },
    {
      "cell_type": "markdown",
      "metadata": {
        "id": "-aOT4KWoKcUH"
      },
      "source": [
        "### Pré processamento das variáveis"
      ]
    },
    {
      "cell_type": "code",
      "execution_count": 63,
      "metadata": {
        "id": "HVnGowUMgKxH"
      },
      "outputs": [],
      "source": [
        "#Leitura e conversão de tempo do dataframe de controle\n",
        "data = pd.read_csv(dados_controle)\n",
        "#data['Date'] = \"2022-08-16 \" + data['Date'] \n",
        "data['Date'] = pd.to_datetime(data['Date'])\n",
        "\n",
        "#Leitura e conversão de t empo do dataframe de rede\n",
        "rede = pd.read_csv(dados_rede)\n",
        "rede['Date'] = pd.to_datetime(rede['Date'])\n"
      ]
    },
    {
      "cell_type": "code",
      "source": [
        "print(rede.shape)\n",
        "print(data.shape)"
      ],
      "metadata": {
        "colab": {
          "base_uri": "https://localhost:8080/"
        },
        "id": "_JEBe4wTS0F9",
        "outputId": "92dbaeb0-9233-4d70-fcca-e3defee0302e"
      },
      "execution_count": 64,
      "outputs": [
        {
          "output_type": "stream",
          "name": "stdout",
          "text": [
            "(426, 11)\n",
            "(2955, 5)\n"
          ]
        }
      ]
    },
    {
      "cell_type": "code",
      "source": [
        "rede.describe().transpose()"
      ],
      "metadata": {
        "id": "-WmkOyRyH30V",
        "outputId": "3dbbbf09-3483-4191-aeb6-0accc91fc8ce",
        "colab": {
          "base_uri": "https://localhost:8080/",
          "height": 206
        }
      },
      "execution_count": 65,
      "outputs": [
        {
          "output_type": "execute_result",
          "data": {
            "text/plain": [
              "              count         mean          std    min     25%     50%     75%  \\\n",
              "DPDU Tx       426.0  2267.476526  1543.455456    0.0  1208.0  1987.0  3235.0   \n",
              "DPDU Tx Fail  426.0   218.769953   218.094461    0.0    47.0   166.0   235.0   \n",
              "DPDU Rx       426.0   863.455399  1002.125555    0.0    60.0   163.0  1715.0   \n",
              "DPDU Rx Fail  426.0     0.000000     0.000000    0.0     0.0     0.0     0.0   \n",
              "RSSI          426.0   -89.744131    35.026414 -192.0   -90.0   -86.0   -71.0   \n",
              "\n",
              "                 max  \n",
              "DPDU Tx       5830.0  \n",
              "DPDU Tx Fail   719.0  \n",
              "DPDU Rx       3039.0  \n",
              "DPDU Rx Fail     0.0  \n",
              "RSSI           -59.0  "
            ],
            "text/html": [
              "\n",
              "  <div id=\"df-a7505112-28b4-4c97-b211-c3a0350b3527\">\n",
              "    <div class=\"colab-df-container\">\n",
              "      <div>\n",
              "<style scoped>\n",
              "    .dataframe tbody tr th:only-of-type {\n",
              "        vertical-align: middle;\n",
              "    }\n",
              "\n",
              "    .dataframe tbody tr th {\n",
              "        vertical-align: top;\n",
              "    }\n",
              "\n",
              "    .dataframe thead th {\n",
              "        text-align: right;\n",
              "    }\n",
              "</style>\n",
              "<table border=\"1\" class=\"dataframe\">\n",
              "  <thead>\n",
              "    <tr style=\"text-align: right;\">\n",
              "      <th></th>\n",
              "      <th>count</th>\n",
              "      <th>mean</th>\n",
              "      <th>std</th>\n",
              "      <th>min</th>\n",
              "      <th>25%</th>\n",
              "      <th>50%</th>\n",
              "      <th>75%</th>\n",
              "      <th>max</th>\n",
              "    </tr>\n",
              "  </thead>\n",
              "  <tbody>\n",
              "    <tr>\n",
              "      <th>DPDU Tx</th>\n",
              "      <td>426.0</td>\n",
              "      <td>2267.476526</td>\n",
              "      <td>1543.455456</td>\n",
              "      <td>0.0</td>\n",
              "      <td>1208.0</td>\n",
              "      <td>1987.0</td>\n",
              "      <td>3235.0</td>\n",
              "      <td>5830.0</td>\n",
              "    </tr>\n",
              "    <tr>\n",
              "      <th>DPDU Tx Fail</th>\n",
              "      <td>426.0</td>\n",
              "      <td>218.769953</td>\n",
              "      <td>218.094461</td>\n",
              "      <td>0.0</td>\n",
              "      <td>47.0</td>\n",
              "      <td>166.0</td>\n",
              "      <td>235.0</td>\n",
              "      <td>719.0</td>\n",
              "    </tr>\n",
              "    <tr>\n",
              "      <th>DPDU Rx</th>\n",
              "      <td>426.0</td>\n",
              "      <td>863.455399</td>\n",
              "      <td>1002.125555</td>\n",
              "      <td>0.0</td>\n",
              "      <td>60.0</td>\n",
              "      <td>163.0</td>\n",
              "      <td>1715.0</td>\n",
              "      <td>3039.0</td>\n",
              "    </tr>\n",
              "    <tr>\n",
              "      <th>DPDU Rx Fail</th>\n",
              "      <td>426.0</td>\n",
              "      <td>0.000000</td>\n",
              "      <td>0.000000</td>\n",
              "      <td>0.0</td>\n",
              "      <td>0.0</td>\n",
              "      <td>0.0</td>\n",
              "      <td>0.0</td>\n",
              "      <td>0.0</td>\n",
              "    </tr>\n",
              "    <tr>\n",
              "      <th>RSSI</th>\n",
              "      <td>426.0</td>\n",
              "      <td>-89.744131</td>\n",
              "      <td>35.026414</td>\n",
              "      <td>-192.0</td>\n",
              "      <td>-90.0</td>\n",
              "      <td>-86.0</td>\n",
              "      <td>-71.0</td>\n",
              "      <td>-59.0</td>\n",
              "    </tr>\n",
              "  </tbody>\n",
              "</table>\n",
              "</div>\n",
              "      <button class=\"colab-df-convert\" onclick=\"convertToInteractive('df-a7505112-28b4-4c97-b211-c3a0350b3527')\"\n",
              "              title=\"Convert this dataframe to an interactive table.\"\n",
              "              style=\"display:none;\">\n",
              "        \n",
              "  <svg xmlns=\"http://www.w3.org/2000/svg\" height=\"24px\"viewBox=\"0 0 24 24\"\n",
              "       width=\"24px\">\n",
              "    <path d=\"M0 0h24v24H0V0z\" fill=\"none\"/>\n",
              "    <path d=\"M18.56 5.44l.94 2.06.94-2.06 2.06-.94-2.06-.94-.94-2.06-.94 2.06-2.06.94zm-11 1L8.5 8.5l.94-2.06 2.06-.94-2.06-.94L8.5 2.5l-.94 2.06-2.06.94zm10 10l.94 2.06.94-2.06 2.06-.94-2.06-.94-.94-2.06-.94 2.06-2.06.94z\"/><path d=\"M17.41 7.96l-1.37-1.37c-.4-.4-.92-.59-1.43-.59-.52 0-1.04.2-1.43.59L10.3 9.45l-7.72 7.72c-.78.78-.78 2.05 0 2.83L4 21.41c.39.39.9.59 1.41.59.51 0 1.02-.2 1.41-.59l7.78-7.78 2.81-2.81c.8-.78.8-2.07 0-2.86zM5.41 20L4 18.59l7.72-7.72 1.47 1.35L5.41 20z\"/>\n",
              "  </svg>\n",
              "      </button>\n",
              "      \n",
              "  <style>\n",
              "    .colab-df-container {\n",
              "      display:flex;\n",
              "      flex-wrap:wrap;\n",
              "      gap: 12px;\n",
              "    }\n",
              "\n",
              "    .colab-df-convert {\n",
              "      background-color: #E8F0FE;\n",
              "      border: none;\n",
              "      border-radius: 50%;\n",
              "      cursor: pointer;\n",
              "      display: none;\n",
              "      fill: #1967D2;\n",
              "      height: 32px;\n",
              "      padding: 0 0 0 0;\n",
              "      width: 32px;\n",
              "    }\n",
              "\n",
              "    .colab-df-convert:hover {\n",
              "      background-color: #E2EBFA;\n",
              "      box-shadow: 0px 1px 2px rgba(60, 64, 67, 0.3), 0px 1px 3px 1px rgba(60, 64, 67, 0.15);\n",
              "      fill: #174EA6;\n",
              "    }\n",
              "\n",
              "    [theme=dark] .colab-df-convert {\n",
              "      background-color: #3B4455;\n",
              "      fill: #D2E3FC;\n",
              "    }\n",
              "\n",
              "    [theme=dark] .colab-df-convert:hover {\n",
              "      background-color: #434B5C;\n",
              "      box-shadow: 0px 1px 3px 1px rgba(0, 0, 0, 0.15);\n",
              "      filter: drop-shadow(0px 1px 2px rgba(0, 0, 0, 0.3));\n",
              "      fill: #FFFFFF;\n",
              "    }\n",
              "  </style>\n",
              "\n",
              "      <script>\n",
              "        const buttonEl =\n",
              "          document.querySelector('#df-a7505112-28b4-4c97-b211-c3a0350b3527 button.colab-df-convert');\n",
              "        buttonEl.style.display =\n",
              "          google.colab.kernel.accessAllowed ? 'block' : 'none';\n",
              "\n",
              "        async function convertToInteractive(key) {\n",
              "          const element = document.querySelector('#df-a7505112-28b4-4c97-b211-c3a0350b3527');\n",
              "          const dataTable =\n",
              "            await google.colab.kernel.invokeFunction('convertToInteractive',\n",
              "                                                     [key], {});\n",
              "          if (!dataTable) return;\n",
              "\n",
              "          const docLinkHtml = 'Like what you see? Visit the ' +\n",
              "            '<a target=\"_blank\" href=https://colab.research.google.com/notebooks/data_table.ipynb>data table notebook</a>'\n",
              "            + ' to learn more about interactive tables.';\n",
              "          element.innerHTML = '';\n",
              "          dataTable['output_type'] = 'display_data';\n",
              "          await google.colab.output.renderOutput(dataTable, element);\n",
              "          const docLink = document.createElement('div');\n",
              "          docLink.innerHTML = docLinkHtml;\n",
              "          element.appendChild(docLink);\n",
              "        }\n",
              "      </script>\n",
              "    </div>\n",
              "  </div>\n",
              "  "
            ]
          },
          "metadata": {},
          "execution_count": 65
        }
      ]
    },
    {
      "cell_type": "code",
      "source": [
        "data.describe().transpose()"
      ],
      "metadata": {
        "id": "sTC1rDx8H5wy",
        "outputId": "1941da93-9045-474d-f765-50c64f37d023",
        "colab": {
          "base_uri": "https://localhost:8080/",
          "height": 175
        }
      },
      "execution_count": 66,
      "outputs": [
        {
          "output_type": "execute_result",
          "data": {
            "text/plain": [
              "         count        mean        std  min     25%     50%     75%     max\n",
              "LV1     2955.0   99.999137   2.765740  0.0   99.72  100.26  100.45  108.58\n",
              "SPVolt  2955.0   99.966159   1.839591  0.0  100.00  100.00  100.00  100.00\n",
              "Output  2955.0  581.832149  14.596314  0.0  576.00  583.00  586.00  605.00\n",
              "ST_Lv1  2955.0   93.310321  52.137670  0.0   20.00  128.00  128.00  128.00"
            ],
            "text/html": [
              "\n",
              "  <div id=\"df-83dd2ebf-1c20-46a7-b05e-9d2a7fe0e727\">\n",
              "    <div class=\"colab-df-container\">\n",
              "      <div>\n",
              "<style scoped>\n",
              "    .dataframe tbody tr th:only-of-type {\n",
              "        vertical-align: middle;\n",
              "    }\n",
              "\n",
              "    .dataframe tbody tr th {\n",
              "        vertical-align: top;\n",
              "    }\n",
              "\n",
              "    .dataframe thead th {\n",
              "        text-align: right;\n",
              "    }\n",
              "</style>\n",
              "<table border=\"1\" class=\"dataframe\">\n",
              "  <thead>\n",
              "    <tr style=\"text-align: right;\">\n",
              "      <th></th>\n",
              "      <th>count</th>\n",
              "      <th>mean</th>\n",
              "      <th>std</th>\n",
              "      <th>min</th>\n",
              "      <th>25%</th>\n",
              "      <th>50%</th>\n",
              "      <th>75%</th>\n",
              "      <th>max</th>\n",
              "    </tr>\n",
              "  </thead>\n",
              "  <tbody>\n",
              "    <tr>\n",
              "      <th>LV1</th>\n",
              "      <td>2955.0</td>\n",
              "      <td>99.999137</td>\n",
              "      <td>2.765740</td>\n",
              "      <td>0.0</td>\n",
              "      <td>99.72</td>\n",
              "      <td>100.26</td>\n",
              "      <td>100.45</td>\n",
              "      <td>108.58</td>\n",
              "    </tr>\n",
              "    <tr>\n",
              "      <th>SPVolt</th>\n",
              "      <td>2955.0</td>\n",
              "      <td>99.966159</td>\n",
              "      <td>1.839591</td>\n",
              "      <td>0.0</td>\n",
              "      <td>100.00</td>\n",
              "      <td>100.00</td>\n",
              "      <td>100.00</td>\n",
              "      <td>100.00</td>\n",
              "    </tr>\n",
              "    <tr>\n",
              "      <th>Output</th>\n",
              "      <td>2955.0</td>\n",
              "      <td>581.832149</td>\n",
              "      <td>14.596314</td>\n",
              "      <td>0.0</td>\n",
              "      <td>576.00</td>\n",
              "      <td>583.00</td>\n",
              "      <td>586.00</td>\n",
              "      <td>605.00</td>\n",
              "    </tr>\n",
              "    <tr>\n",
              "      <th>ST_Lv1</th>\n",
              "      <td>2955.0</td>\n",
              "      <td>93.310321</td>\n",
              "      <td>52.137670</td>\n",
              "      <td>0.0</td>\n",
              "      <td>20.00</td>\n",
              "      <td>128.00</td>\n",
              "      <td>128.00</td>\n",
              "      <td>128.00</td>\n",
              "    </tr>\n",
              "  </tbody>\n",
              "</table>\n",
              "</div>\n",
              "      <button class=\"colab-df-convert\" onclick=\"convertToInteractive('df-83dd2ebf-1c20-46a7-b05e-9d2a7fe0e727')\"\n",
              "              title=\"Convert this dataframe to an interactive table.\"\n",
              "              style=\"display:none;\">\n",
              "        \n",
              "  <svg xmlns=\"http://www.w3.org/2000/svg\" height=\"24px\"viewBox=\"0 0 24 24\"\n",
              "       width=\"24px\">\n",
              "    <path d=\"M0 0h24v24H0V0z\" fill=\"none\"/>\n",
              "    <path d=\"M18.56 5.44l.94 2.06.94-2.06 2.06-.94-2.06-.94-.94-2.06-.94 2.06-2.06.94zm-11 1L8.5 8.5l.94-2.06 2.06-.94-2.06-.94L8.5 2.5l-.94 2.06-2.06.94zm10 10l.94 2.06.94-2.06 2.06-.94-2.06-.94-.94-2.06-.94 2.06-2.06.94z\"/><path d=\"M17.41 7.96l-1.37-1.37c-.4-.4-.92-.59-1.43-.59-.52 0-1.04.2-1.43.59L10.3 9.45l-7.72 7.72c-.78.78-.78 2.05 0 2.83L4 21.41c.39.39.9.59 1.41.59.51 0 1.02-.2 1.41-.59l7.78-7.78 2.81-2.81c.8-.78.8-2.07 0-2.86zM5.41 20L4 18.59l7.72-7.72 1.47 1.35L5.41 20z\"/>\n",
              "  </svg>\n",
              "      </button>\n",
              "      \n",
              "  <style>\n",
              "    .colab-df-container {\n",
              "      display:flex;\n",
              "      flex-wrap:wrap;\n",
              "      gap: 12px;\n",
              "    }\n",
              "\n",
              "    .colab-df-convert {\n",
              "      background-color: #E8F0FE;\n",
              "      border: none;\n",
              "      border-radius: 50%;\n",
              "      cursor: pointer;\n",
              "      display: none;\n",
              "      fill: #1967D2;\n",
              "      height: 32px;\n",
              "      padding: 0 0 0 0;\n",
              "      width: 32px;\n",
              "    }\n",
              "\n",
              "    .colab-df-convert:hover {\n",
              "      background-color: #E2EBFA;\n",
              "      box-shadow: 0px 1px 2px rgba(60, 64, 67, 0.3), 0px 1px 3px 1px rgba(60, 64, 67, 0.15);\n",
              "      fill: #174EA6;\n",
              "    }\n",
              "\n",
              "    [theme=dark] .colab-df-convert {\n",
              "      background-color: #3B4455;\n",
              "      fill: #D2E3FC;\n",
              "    }\n",
              "\n",
              "    [theme=dark] .colab-df-convert:hover {\n",
              "      background-color: #434B5C;\n",
              "      box-shadow: 0px 1px 3px 1px rgba(0, 0, 0, 0.15);\n",
              "      filter: drop-shadow(0px 1px 2px rgba(0, 0, 0, 0.3));\n",
              "      fill: #FFFFFF;\n",
              "    }\n",
              "  </style>\n",
              "\n",
              "      <script>\n",
              "        const buttonEl =\n",
              "          document.querySelector('#df-83dd2ebf-1c20-46a7-b05e-9d2a7fe0e727 button.colab-df-convert');\n",
              "        buttonEl.style.display =\n",
              "          google.colab.kernel.accessAllowed ? 'block' : 'none';\n",
              "\n",
              "        async function convertToInteractive(key) {\n",
              "          const element = document.querySelector('#df-83dd2ebf-1c20-46a7-b05e-9d2a7fe0e727');\n",
              "          const dataTable =\n",
              "            await google.colab.kernel.invokeFunction('convertToInteractive',\n",
              "                                                     [key], {});\n",
              "          if (!dataTable) return;\n",
              "\n",
              "          const docLinkHtml = 'Like what you see? Visit the ' +\n",
              "            '<a target=\"_blank\" href=https://colab.research.google.com/notebooks/data_table.ipynb>data table notebook</a>'\n",
              "            + ' to learn more about interactive tables.';\n",
              "          element.innerHTML = '';\n",
              "          dataTable['output_type'] = 'display_data';\n",
              "          await google.colab.output.renderOutput(dataTable, element);\n",
              "          const docLink = document.createElement('div');\n",
              "          docLink.innerHTML = docLinkHtml;\n",
              "          element.appendChild(docLink);\n",
              "        }\n",
              "      </script>\n",
              "    </div>\n",
              "  </div>\n",
              "  "
            ]
          },
          "metadata": {},
          "execution_count": 66
        }
      ]
    },
    {
      "cell_type": "code",
      "source": [
        "device01 = rede\n",
        "device05 = rede\n",
        "\n",
        "indexNames01 = device01[ device01['Devices'] == 'TT-IS-05' ].index #pega as linhas do sensor 05\n",
        "indexNames05 = device05[ device05['Devices'] == 'LD-IS-01' ].index #pega as linhas do sensor 01"
      ],
      "metadata": {
        "id": "g0moZr9GTPdn"
      },
      "execution_count": 67,
      "outputs": []
    },
    {
      "cell_type": "code",
      "source": [
        "print(indexNames01.shape)\n",
        "print(indexNames05.shape)"
      ],
      "metadata": {
        "colab": {
          "base_uri": "https://localhost:8080/"
        },
        "id": "eEsAZ3DlTQiZ",
        "outputId": "6ab3296d-6b38-4b83-ed29-ca93133313bb"
      },
      "execution_count": 68,
      "outputs": [
        {
          "output_type": "stream",
          "name": "stdout",
          "text": [
            "(222,)\n",
            "(204,)\n"
          ]
        }
      ]
    },
    {
      "cell_type": "code",
      "source": [
        "device01 = device01.drop(indexNames01) #Exclui os sensores 05\n",
        "device05 = device05.drop(indexNames05) #Exclui os sensore 01"
      ],
      "metadata": {
        "id": "QnKQ-U0pTun6"
      },
      "execution_count": 69,
      "outputs": []
    },
    {
      "cell_type": "code",
      "source": [
        "print(device01.shape)\n",
        "print(device05.shape)"
      ],
      "metadata": {
        "colab": {
          "base_uri": "https://localhost:8080/"
        },
        "id": "FBM_x0KhTw1R",
        "outputId": "3b0caf7b-4201-4ae9-afbc-7660e55a4df1"
      },
      "execution_count": 70,
      "outputs": [
        {
          "output_type": "stream",
          "name": "stdout",
          "text": [
            "(204, 11)\n",
            "(222, 11)\n"
          ]
        }
      ]
    },
    {
      "cell_type": "code",
      "source": [
        "device01 = device01.drop(columns = ['Neighbors', 'Clock Source' , 'Link Status','DPDU Rx',\t'DPDU Rx Fail'])\n",
        "device05 = device05.drop(columns = ['Neighbors', 'Clock Source' , 'Link Status','DPDU Rx',\t'DPDU Rx Fail'])"
      ],
      "metadata": {
        "id": "fAL7iYmQXUdn"
      },
      "execution_count": 71,
      "outputs": []
    },
    {
      "cell_type": "code",
      "source": [
        "print(device01.shape)\n",
        "print(device05.shape)"
      ],
      "metadata": {
        "colab": {
          "base_uri": "https://localhost:8080/"
        },
        "id": "Yn1VTK5AYuAR",
        "outputId": "9a37a1f2-2291-471b-90ef-91655762c01e"
      },
      "execution_count": 72,
      "outputs": [
        {
          "output_type": "stream",
          "name": "stdout",
          "text": [
            "(204, 6)\n",
            "(222, 6)\n"
          ]
        }
      ]
    },
    {
      "cell_type": "markdown",
      "source": [
        "##Calculo de PDR"
      ],
      "metadata": {
        "id": "p_ZR90c8JnFo"
      }
    },
    {
      "cell_type": "code",
      "source": [
        "device05.describe().transpose()"
      ],
      "metadata": {
        "id": "Rq_ZtQxTI9I7",
        "outputId": "8d99b4c2-d94d-4c6a-9a8f-c2fc4025e36c",
        "colab": {
          "base_uri": "https://localhost:8080/",
          "height": 143
        }
      },
      "execution_count": 75,
      "outputs": [
        {
          "output_type": "execute_result",
          "data": {
            "text/plain": [
              "              count         mean          std    min      25%     50%     75%  \\\n",
              "DPDU Tx       222.0  3013.342342  1728.779715    0.0  1812.00  3235.0  4345.0   \n",
              "DPDU Tx Fail  222.0   208.585586   213.516007    0.0    45.00   159.0   206.0   \n",
              "RSSI          222.0   -90.887387    39.182609 -192.0   -88.75   -86.0   -68.0   \n",
              "\n",
              "                 max  \n",
              "DPDU Tx       5830.0  \n",
              "DPDU Tx Fail   610.0  \n",
              "RSSI           -59.0  "
            ],
            "text/html": [
              "\n",
              "  <div id=\"df-ee389694-426e-4348-86e0-8dd954a55320\">\n",
              "    <div class=\"colab-df-container\">\n",
              "      <div>\n",
              "<style scoped>\n",
              "    .dataframe tbody tr th:only-of-type {\n",
              "        vertical-align: middle;\n",
              "    }\n",
              "\n",
              "    .dataframe tbody tr th {\n",
              "        vertical-align: top;\n",
              "    }\n",
              "\n",
              "    .dataframe thead th {\n",
              "        text-align: right;\n",
              "    }\n",
              "</style>\n",
              "<table border=\"1\" class=\"dataframe\">\n",
              "  <thead>\n",
              "    <tr style=\"text-align: right;\">\n",
              "      <th></th>\n",
              "      <th>count</th>\n",
              "      <th>mean</th>\n",
              "      <th>std</th>\n",
              "      <th>min</th>\n",
              "      <th>25%</th>\n",
              "      <th>50%</th>\n",
              "      <th>75%</th>\n",
              "      <th>max</th>\n",
              "    </tr>\n",
              "  </thead>\n",
              "  <tbody>\n",
              "    <tr>\n",
              "      <th>DPDU Tx</th>\n",
              "      <td>222.0</td>\n",
              "      <td>3013.342342</td>\n",
              "      <td>1728.779715</td>\n",
              "      <td>0.0</td>\n",
              "      <td>1812.00</td>\n",
              "      <td>3235.0</td>\n",
              "      <td>4345.0</td>\n",
              "      <td>5830.0</td>\n",
              "    </tr>\n",
              "    <tr>\n",
              "      <th>DPDU Tx Fail</th>\n",
              "      <td>222.0</td>\n",
              "      <td>208.585586</td>\n",
              "      <td>213.516007</td>\n",
              "      <td>0.0</td>\n",
              "      <td>45.00</td>\n",
              "      <td>159.0</td>\n",
              "      <td>206.0</td>\n",
              "      <td>610.0</td>\n",
              "    </tr>\n",
              "    <tr>\n",
              "      <th>RSSI</th>\n",
              "      <td>222.0</td>\n",
              "      <td>-90.887387</td>\n",
              "      <td>39.182609</td>\n",
              "      <td>-192.0</td>\n",
              "      <td>-88.75</td>\n",
              "      <td>-86.0</td>\n",
              "      <td>-68.0</td>\n",
              "      <td>-59.0</td>\n",
              "    </tr>\n",
              "  </tbody>\n",
              "</table>\n",
              "</div>\n",
              "      <button class=\"colab-df-convert\" onclick=\"convertToInteractive('df-ee389694-426e-4348-86e0-8dd954a55320')\"\n",
              "              title=\"Convert this dataframe to an interactive table.\"\n",
              "              style=\"display:none;\">\n",
              "        \n",
              "  <svg xmlns=\"http://www.w3.org/2000/svg\" height=\"24px\"viewBox=\"0 0 24 24\"\n",
              "       width=\"24px\">\n",
              "    <path d=\"M0 0h24v24H0V0z\" fill=\"none\"/>\n",
              "    <path d=\"M18.56 5.44l.94 2.06.94-2.06 2.06-.94-2.06-.94-.94-2.06-.94 2.06-2.06.94zm-11 1L8.5 8.5l.94-2.06 2.06-.94-2.06-.94L8.5 2.5l-.94 2.06-2.06.94zm10 10l.94 2.06.94-2.06 2.06-.94-2.06-.94-.94-2.06-.94 2.06-2.06.94z\"/><path d=\"M17.41 7.96l-1.37-1.37c-.4-.4-.92-.59-1.43-.59-.52 0-1.04.2-1.43.59L10.3 9.45l-7.72 7.72c-.78.78-.78 2.05 0 2.83L4 21.41c.39.39.9.59 1.41.59.51 0 1.02-.2 1.41-.59l7.78-7.78 2.81-2.81c.8-.78.8-2.07 0-2.86zM5.41 20L4 18.59l7.72-7.72 1.47 1.35L5.41 20z\"/>\n",
              "  </svg>\n",
              "      </button>\n",
              "      \n",
              "  <style>\n",
              "    .colab-df-container {\n",
              "      display:flex;\n",
              "      flex-wrap:wrap;\n",
              "      gap: 12px;\n",
              "    }\n",
              "\n",
              "    .colab-df-convert {\n",
              "      background-color: #E8F0FE;\n",
              "      border: none;\n",
              "      border-radius: 50%;\n",
              "      cursor: pointer;\n",
              "      display: none;\n",
              "      fill: #1967D2;\n",
              "      height: 32px;\n",
              "      padding: 0 0 0 0;\n",
              "      width: 32px;\n",
              "    }\n",
              "\n",
              "    .colab-df-convert:hover {\n",
              "      background-color: #E2EBFA;\n",
              "      box-shadow: 0px 1px 2px rgba(60, 64, 67, 0.3), 0px 1px 3px 1px rgba(60, 64, 67, 0.15);\n",
              "      fill: #174EA6;\n",
              "    }\n",
              "\n",
              "    [theme=dark] .colab-df-convert {\n",
              "      background-color: #3B4455;\n",
              "      fill: #D2E3FC;\n",
              "    }\n",
              "\n",
              "    [theme=dark] .colab-df-convert:hover {\n",
              "      background-color: #434B5C;\n",
              "      box-shadow: 0px 1px 3px 1px rgba(0, 0, 0, 0.15);\n",
              "      filter: drop-shadow(0px 1px 2px rgba(0, 0, 0, 0.3));\n",
              "      fill: #FFFFFF;\n",
              "    }\n",
              "  </style>\n",
              "\n",
              "      <script>\n",
              "        const buttonEl =\n",
              "          document.querySelector('#df-ee389694-426e-4348-86e0-8dd954a55320 button.colab-df-convert');\n",
              "        buttonEl.style.display =\n",
              "          google.colab.kernel.accessAllowed ? 'block' : 'none';\n",
              "\n",
              "        async function convertToInteractive(key) {\n",
              "          const element = document.querySelector('#df-ee389694-426e-4348-86e0-8dd954a55320');\n",
              "          const dataTable =\n",
              "            await google.colab.kernel.invokeFunction('convertToInteractive',\n",
              "                                                     [key], {});\n",
              "          if (!dataTable) return;\n",
              "\n",
              "          const docLinkHtml = 'Like what you see? Visit the ' +\n",
              "            '<a target=\"_blank\" href=https://colab.research.google.com/notebooks/data_table.ipynb>data table notebook</a>'\n",
              "            + ' to learn more about interactive tables.';\n",
              "          element.innerHTML = '';\n",
              "          dataTable['output_type'] = 'display_data';\n",
              "          await google.colab.output.renderOutput(dataTable, element);\n",
              "          const docLink = document.createElement('div');\n",
              "          docLink.innerHTML = docLinkHtml;\n",
              "          element.appendChild(docLink);\n",
              "        }\n",
              "      </script>\n",
              "    </div>\n",
              "  </div>\n",
              "  "
            ]
          },
          "metadata": {},
          "execution_count": 75
        }
      ]
    },
    {
      "cell_type": "code",
      "source": [
        "PDRI05 = (device05['DPDU Tx']/(device05['DPDU Tx']+device05['DPDU Tx Fail'])) * 100 #Eviado/(Eviado+Perdido)\n",
        "PDRI01 = (device01['DPDU Tx']/(device01['DPDU Tx']+device01['DPDU Tx Fail'])) * 100 #Eviado/(Eviado+Perdido)"
      ],
      "metadata": {
        "id": "NOCG-RuXJxdz"
      },
      "execution_count": 82,
      "outputs": []
    },
    {
      "cell_type": "code",
      "source": [
        "plt.plot(PDRI05)"
      ],
      "metadata": {
        "id": "crZfgHfkKdRd",
        "outputId": "9a06488a-f978-4677-b333-e0a075cf11ec",
        "colab": {
          "base_uri": "https://localhost:8080/",
          "height": 282
        }
      },
      "execution_count": 83,
      "outputs": [
        {
          "output_type": "execute_result",
          "data": {
            "text/plain": [
              "[<matplotlib.lines.Line2D at 0x7f055eb662d0>]"
            ]
          },
          "metadata": {},
          "execution_count": 83
        },
        {
          "output_type": "display_data",
          "data": {
            "text/plain": [
              "<Figure size 432x288 with 1 Axes>"
            ],
            "image/png": "[encoded data removed]"
          },
          "metadata": {
            "needs_background": "light"
          }
        }
      ]
    },
    {
      "cell_type": "code",
      "source": [
        "plt.plot(PDRI01)"
      ],
      "metadata": {
        "id": "LZwRs7EWKJYg",
        "outputId": "05bf44d3-4614-459a-fffb-e852daf48885",
        "colab": {
          "base_uri": "https://localhost:8080/",
          "height": 282
        }
      },
      "execution_count": 80,
      "outputs": [
        {
          "output_type": "execute_result",
          "data": {
            "text/plain": [
              "[<matplotlib.lines.Line2D at 0x7f055eb7f7d0>]"
            ]
          },
          "metadata": {},
          "execution_count": 80
        },
        {
          "output_type": "display_data",
          "data": {
            "text/plain": [
              "<Figure size 432x288 with 1 Axes>"
            ],
            "image/png": "[encoded data removed]"
          },
          "metadata": {
            "needs_background": "light"
          }
        }
      ]
    },
    {
      "cell_type": "markdown",
      "source": [
        "#Realiza junção dos sensores em um só dataframe"
      ],
      "metadata": {
        "id": "28PiMgFjXPFT"
      }
    },
    {
      "cell_type": "code",
      "execution_count": null,
      "metadata": {
        "id": "wPuIFLF9dlcu",
        "colab": {
          "base_uri": "https://localhost:8080/"
        },
        "outputId": "a057612d-2961-49d7-9aa3-6159d43b7e01"
      },
      "outputs": [
        {
          "output_type": "execute_result",
          "data": {
            "text/plain": [
              "(204, 15)"
            ]
          },
          "metadata": {},
          "execution_count": 11
        }
      ],
      "source": [
        "#device05 =device05.drop('Date', axis=1)\n",
        "rede = pd.merge(device01, device05, how='left', on='Date')\n",
        "rede.shape"
      ]
    },
    {
      "cell_type": "code",
      "source": [
        "data.index = pd.to_datetime(data['Date'])\n",
        "rede.index = pd.to_datetime(rede['Date'])\n",
        "\n",
        "data.drop(\"Date\", inplace=True, axis=1)\n",
        "rede.drop(\"Date\", inplace=True, axis=1)\n",
        "\n",
        "df = data.merge(rede, right_index = True,left_index = True, how = 'outer')\n",
        "df=df.reset_index()"
      ],
      "metadata": {
        "id": "TsLWQCiHVMIO"
      },
      "execution_count": null,
      "outputs": []
    },
    {
      "cell_type": "code",
      "execution_count": null,
      "metadata": {
        "id": "ltXlz2PaJjDq"
      },
      "outputs": [],
      "source": [
        "df.drop(\"LV1\", inplace=True, axis=1)\n",
        "df.drop(\"Output\", inplace=True, axis=1)\n",
        "df.drop(\"SPVolt\", inplace=True, axis=1)\n",
        "tempo = df['Date']\n",
        "df.drop(\"Date\", inplace=True, axis=1)"
      ]
    },
    {
      "cell_type": "code",
      "execution_count": null,
      "metadata": {
        "id": "9olqECaKUCcF"
      },
      "outputs": [],
      "source": [
        "rede = pd.read_csv(dados_rede)\n",
        "rede['Date'] = pd.to_datetime(rede['Date'])\n",
        "rede = pd.merge(device01, device05, how='left', on='Date')\n",
        "#rede.drop(\"Date\", inplace=True, axis=1)\n"
      ]
    },
    {
      "cell_type": "code",
      "execution_count": null,
      "metadata": {
        "id": "pXVDSMFggKxH"
      },
      "outputs": [],
      "source": [
        "rodada = 0\n",
        "indicie_rede = 0\n",
        "completo = pd.DataFrame()\n",
        "lista = []\n",
        "for indicie, linha in df.iterrows():\n",
        "    if df.loc[indicie].isnull().values.any() == True:\n",
        "      #indicie_rede += 1  \n",
        "      if rodada == 0:  \n",
        "        indicie_rede = 0\n",
        "      lista.append(indicie_rede)\n",
        "    else:\n",
        "      if rodada == 0:\n",
        "        indicie_rede = 0\n",
        "        rodada = 1\n",
        "      else:\n",
        "        indicie_rede += 1\n",
        "    completo = completo.append(rede.loc[indicie_rede], ignore_index= True) "
      ]
    },
    {
      "cell_type": "code",
      "execution_count": null,
      "metadata": {
        "id": "RKTiCEmjUQjV"
      },
      "outputs": [],
      "source": [
        "data = pd.read_csv(dados_controle)\n",
        "data['Date'] = pd.to_datetime(data['Date'])\n",
        "df = data.merge(completo, left_index=True, right_index=True, how = 'outer')\n",
        "#df.to_csv('DadosCompletos.csv')\n",
        "df = df.dropna()\n",
        "df['Date'] = tempo\n"
      ]
    },
    {
      "cell_type": "code",
      "source": [
        "df.describe().transpose()"
      ],
      "metadata": {
        "id": "XEfSsISDHCSq",
        "outputId": "097189b6-66d9-41b5-e7e3-6df6992ccb5e",
        "colab": {
          "base_uri": "https://localhost:8080/",
          "height": 488
        }
      },
      "execution_count": null,
      "outputs": [
        {
          "output_type": "execute_result",
          "data": {
            "text/plain": [
              "                 count         mean          std    min      25%      50%  \\\n",
              "LV1             2955.0    99.999137     2.765740    0.0    99.72   100.26   \n",
              "SPVolt          2955.0    99.966159     1.839591    0.0   100.00   100.00   \n",
              "Output          2955.0   581.832149    14.596314    0.0   576.00   583.00   \n",
              "ST_Lv1          2955.0    93.310321    52.137670    0.0    20.00   128.00   \n",
              "DPDU Tx_x       2955.0  1712.478173   723.852839    0.0  1142.00  1987.00   \n",
              "DPDU Tx Fail_x  2955.0   339.344839   274.929426    0.0    84.00   224.00   \n",
              "DPDU Rx_x       2955.0   110.043993    63.949361    0.0    52.00   132.00   \n",
              "DPDU Rx Fail_x  2955.0     0.000000     0.000000    0.0     0.00     0.00   \n",
              "RSSI_x          2955.0   -83.277496    28.513811 -192.0   -90.00   -81.00   \n",
              "DPDU Tx_y       2955.0  3885.041624  1670.454507   59.0  2517.00  4345.00   \n",
              "DPDU Tx Fail_y  2955.0   320.240948   243.264199    2.0    94.00   206.00   \n",
              "DPDU Rx_y       2955.0  2035.683587   888.277657   28.0  1299.00  2337.00   \n",
              "DPDU Rx Fail_y  2955.0     0.000000     0.000000    0.0     0.00     0.00   \n",
              "RSSI_y          2955.0   -78.914721    26.713838 -192.0   -86.00   -77.00   \n",
              "\n",
              "                    75%      max  \n",
              "LV1              100.45   108.58  \n",
              "SPVolt           100.00   100.00  \n",
              "Output           586.00   605.00  \n",
              "ST_Lv1           128.00   128.00  \n",
              "DPDU Tx_x       2394.00  2531.00  \n",
              "DPDU Tx Fail_x   716.00   719.00  \n",
              "DPDU Rx_x        174.00   191.00  \n",
              "DPDU Rx Fail_x     0.00     0.00  \n",
              "RSSI_x           -63.00   -61.00  \n",
              "DPDU Tx_y       5554.00  5830.00  \n",
              "DPDU Tx Fail_y   607.00   610.00  \n",
              "DPDU Rx_y       2885.00  3039.00  \n",
              "DPDU Rx Fail_y     0.00     0.00  \n",
              "RSSI_y           -60.00   -59.00  "
            ],
            "text/html": [
              "\n",
              "  <div id=\"df-df7d3e47-6967-4efd-8ff4-276212bcd18c\">\n",
              "    <div class=\"colab-df-container\">\n",
              "      <div>\n",
              "<style scoped>\n",
              "    .dataframe tbody tr th:only-of-type {\n",
              "        vertical-align: middle;\n",
              "    }\n",
              "\n",
              "    .dataframe tbody tr th {\n",
              "        vertical-align: top;\n",
              "    }\n",
              "\n",
              "    .dataframe thead th {\n",
              "        text-align: right;\n",
              "    }\n",
              "</style>\n",
              "<table border=\"1\" class=\"dataframe\">\n",
              "  <thead>\n",
              "    <tr style=\"text-align: right;\">\n",
              "      <th></th>\n",
              "      <th>count</th>\n",
              "      <th>mean</th>\n",
              "      <th>std</th>\n",
              "      <th>min</th>\n",
              "      <th>25%</th>\n",
              "      <th>50%</th>\n",
              "      <th>75%</th>\n",
              "      <th>max</th>\n",
              "    </tr>\n",
              "  </thead>\n",
              "  <tbody>\n",
              "    <tr>\n",
              "      <th>LV1</th>\n",
              "      <td>2955.0</td>\n",
              "      <td>99.999137</td>\n",
              "      <td>2.765740</td>\n",
              "      <td>0.0</td>\n",
              "      <td>99.72</td>\n",
              "      <td>100.26</td>\n",
              "      <td>100.45</td>\n",
              "      <td>108.58</td>\n",
              "    </tr>\n",
              "    <tr>\n",
              "      <th>SPVolt</th>\n",
              "      <td>2955.0</td>\n",
              "      <td>99.966159</td>\n",
              "      <td>1.839591</td>\n",
              "      <td>0.0</td>\n",
              "      <td>100.00</td>\n",
              "      <td>100.00</td>\n",
              "      <td>100.00</td>\n",
              "      <td>100.00</td>\n",
              "    </tr>\n",
              "    <tr>\n",
              "      <th>Output</th>\n",
              "      <td>2955.0</td>\n",
              "      <td>581.832149</td>\n",
              "      <td>14.596314</td>\n",
              "      <td>0.0</td>\n",
              "      <td>576.00</td>\n",
              "      <td>583.00</td>\n",
              "      <td>586.00</td>\n",
              "      <td>605.00</td>\n",
              "    </tr>\n",
              "    <tr>\n",
              "      <th>ST_Lv1</th>\n",
              "      <td>2955.0</td>\n",
              "      <td>93.310321</td>\n",
              "      <td>52.137670</td>\n",
              "      <td>0.0</td>\n",
              "      <td>20.00</td>\n",
              "      <td>128.00</td>\n",
              "      <td>128.00</td>\n",
              "      <td>128.00</td>\n",
              "    </tr>\n",
              "    <tr>\n",
              "      <th>DPDU Tx_x</th>\n",
              "      <td>2955.0</td>\n",
              "      <td>1712.478173</td>\n",
              "      <td>723.852839</td>\n",
              "      <td>0.0</td>\n",
              "      <td>1142.00</td>\n",
              "      <td>1987.00</td>\n",
              "      <td>2394.00</td>\n",
              "      <td>2531.00</td>\n",
              "    </tr>\n",
              "    <tr>\n",
              "      <th>DPDU Tx Fail_x</th>\n",
              "      <td>2955.0</td>\n",
              "      <td>339.344839</td>\n",
              "      <td>274.929426</td>\n",
              "      <td>0.0</td>\n",
              "      <td>84.00</td>\n",
              "      <td>224.00</td>\n",
              "      <td>716.00</td>\n",
              "      <td>719.00</td>\n",
              "    </tr>\n",
              "    <tr>\n",
              "      <th>DPDU Rx_x</th>\n",
              "      <td>2955.0</td>\n",
              "      <td>110.043993</td>\n",
              "      <td>63.949361</td>\n",
              "      <td>0.0</td>\n",
              "      <td>52.00</td>\n",
              "      <td>132.00</td>\n",
              "      <td>174.00</td>\n",
              "      <td>191.00</td>\n",
              "    </tr>\n",
              "    <tr>\n",
              "      <th>DPDU Rx Fail_x</th>\n",
              "      <td>2955.0</td>\n",
              "      <td>0.000000</td>\n",
              "      <td>0.000000</td>\n",
              "      <td>0.0</td>\n",
              "      <td>0.00</td>\n",
              "      <td>0.00</td>\n",
              "      <td>0.00</td>\n",
              "      <td>0.00</td>\n",
              "    </tr>\n",
              "    <tr>\n",
              "      <th>RSSI_x</th>\n",
              "      <td>2955.0</td>\n",
              "      <td>-83.277496</td>\n",
              "      <td>28.513811</td>\n",
              "      <td>-192.0</td>\n",
              "      <td>-90.00</td>\n",
              "      <td>-81.00</td>\n",
              "      <td>-63.00</td>\n",
              "      <td>-61.00</td>\n",
              "    </tr>\n",
              "    <tr>\n",
              "      <th>DPDU Tx_y</th>\n",
              "      <td>2955.0</td>\n",
              "      <td>3885.041624</td>\n",
              "      <td>1670.454507</td>\n",
              "      <td>59.0</td>\n",
              "      <td>2517.00</td>\n",
              "      <td>4345.00</td>\n",
              "      <td>5554.00</td>\n",
              "      <td>5830.00</td>\n",
              "    </tr>\n",
              "    <tr>\n",
              "      <th>DPDU Tx Fail_y</th>\n",
              "      <td>2955.0</td>\n",
              "      <td>320.240948</td>\n",
              "      <td>243.264199</td>\n",
              "      <td>2.0</td>\n",
              "      <td>94.00</td>\n",
              "      <td>206.00</td>\n",
              "      <td>607.00</td>\n",
              "      <td>610.00</td>\n",
              "    </tr>\n",
              "    <tr>\n",
              "      <th>DPDU Rx_y</th>\n",
              "      <td>2955.0</td>\n",
              "      <td>2035.683587</td>\n",
              "      <td>888.277657</td>\n",
              "      <td>28.0</td>\n",
              "      <td>1299.00</td>\n",
              "      <td>2337.00</td>\n",
              "      <td>2885.00</td>\n",
              "      <td>3039.00</td>\n",
              "    </tr>\n",
              "    <tr>\n",
              "      <th>DPDU Rx Fail_y</th>\n",
              "      <td>2955.0</td>\n",
              "      <td>0.000000</td>\n",
              "      <td>0.000000</td>\n",
              "      <td>0.0</td>\n",
              "      <td>0.00</td>\n",
              "      <td>0.00</td>\n",
              "      <td>0.00</td>\n",
              "      <td>0.00</td>\n",
              "    </tr>\n",
              "    <tr>\n",
              "      <th>RSSI_y</th>\n",
              "      <td>2955.0</td>\n",
              "      <td>-78.914721</td>\n",
              "      <td>26.713838</td>\n",
              "      <td>-192.0</td>\n",
              "      <td>-86.00</td>\n",
              "      <td>-77.00</td>\n",
              "      <td>-60.00</td>\n",
              "      <td>-59.00</td>\n",
              "    </tr>\n",
              "  </tbody>\n",
              "</table>\n",
              "</div>\n",
              "      <button class=\"colab-df-convert\" onclick=\"convertToInteractive('df-df7d3e47-6967-4efd-8ff4-276212bcd18c')\"\n",
              "              title=\"Convert this dataframe to an interactive table.\"\n",
              "              style=\"display:none;\">\n",
              "        \n",
              "  <svg xmlns=\"http://www.w3.org/2000/svg\" height=\"24px\"viewBox=\"0 0 24 24\"\n",
              "       width=\"24px\">\n",
              "    <path d=\"M0 0h24v24H0V0z\" fill=\"none\"/>\n",
              "    <path d=\"M18.56 5.44l.94 2.06.94-2.06 2.06-.94-2.06-.94-.94-2.06-.94 2.06-2.06.94zm-11 1L8.5 8.5l.94-2.06 2.06-.94-2.06-.94L8.5 2.5l-.94 2.06-2.06.94zm10 10l.94 2.06.94-2.06 2.06-.94-2.06-.94-.94-2.06-.94 2.06-2.06.94z\"/><path d=\"M17.41 7.96l-1.37-1.37c-.4-.4-.92-.59-1.43-.59-.52 0-1.04.2-1.43.59L10.3 9.45l-7.72 7.72c-.78.78-.78 2.05 0 2.83L4 21.41c.39.39.9.59 1.41.59.51 0 1.02-.2 1.41-.59l7.78-7.78 2.81-2.81c.8-.78.8-2.07 0-2.86zM5.41 20L4 18.59l7.72-7.72 1.47 1.35L5.41 20z\"/>\n",
              "  </svg>\n",
              "      </button>\n",
              "      \n",
              "  <style>\n",
              "    .colab-df-container {\n",
              "      display:flex;\n",
              "      flex-wrap:wrap;\n",
              "      gap: 12px;\n",
              "    }\n",
              "\n",
              "    .colab-df-convert {\n",
              "      background-color: #E8F0FE;\n",
              "      border: none;\n",
              "      border-radius: 50%;\n",
              "      cursor: pointer;\n",
              "      display: none;\n",
              "      fill: #1967D2;\n",
              "      height: 32px;\n",
              "      padding: 0 0 0 0;\n",
              "      width: 32px;\n",
              "    }\n",
              "\n",
              "    .colab-df-convert:hover {\n",
              "      background-color: #E2EBFA;\n",
              "      box-shadow: 0px 1px 2px rgba(60, 64, 67, 0.3), 0px 1px 3px 1px rgba(60, 64, 67, 0.15);\n",
              "      fill: #174EA6;\n",
              "    }\n",
              "\n",
              "    [theme=dark] .colab-df-convert {\n",
              "      background-color: #3B4455;\n",
              "      fill: #D2E3FC;\n",
              "    }\n",
              "\n",
              "    [theme=dark] .colab-df-convert:hover {\n",
              "      background-color: #434B5C;\n",
              "      box-shadow: 0px 1px 3px 1px rgba(0, 0, 0, 0.15);\n",
              "      filter: drop-shadow(0px 1px 2px rgba(0, 0, 0, 0.3));\n",
              "      fill: #FFFFFF;\n",
              "    }\n",
              "  </style>\n",
              "\n",
              "      <script>\n",
              "        const buttonEl =\n",
              "          document.querySelector('#df-df7d3e47-6967-4efd-8ff4-276212bcd18c button.colab-df-convert');\n",
              "        buttonEl.style.display =\n",
              "          google.colab.kernel.accessAllowed ? 'block' : 'none';\n",
              "\n",
              "        async function convertToInteractive(key) {\n",
              "          const element = document.querySelector('#df-df7d3e47-6967-4efd-8ff4-276212bcd18c');\n",
              "          const dataTable =\n",
              "            await google.colab.kernel.invokeFunction('convertToInteractive',\n",
              "                                                     [key], {});\n",
              "          if (!dataTable) return;\n",
              "\n",
              "          const docLinkHtml = 'Like what you see? Visit the ' +\n",
              "            '<a target=\"_blank\" href=https://colab.research.google.com/notebooks/data_table.ipynb>data table notebook</a>'\n",
              "            + ' to learn more about interactive tables.';\n",
              "          element.innerHTML = '';\n",
              "          dataTable['output_type'] = 'display_data';\n",
              "          await google.colab.output.renderOutput(dataTable, element);\n",
              "          const docLink = document.createElement('div');\n",
              "          docLink.innerHTML = docLinkHtml;\n",
              "          element.appendChild(docLink);\n",
              "        }\n",
              "      </script>\n",
              "    </div>\n",
              "  </div>\n",
              "  "
            ]
          },
          "metadata": {},
          "execution_count": 27
        }
      ]
    },
    {
      "cell_type": "code",
      "execution_count": null,
      "metadata": {
        "id": "NzFK8oRogKxL"
      },
      "outputs": [],
      "source": [
        "\n",
        "tempo = df[\"Date\"]\n",
        "Nivel_tank = df[\"LV1\"]\n",
        "Saida = df[\"Output\"]\n",
        "Setpoint = df[\"SPVolt\"]\n",
        "\n",
        "#tempo = tempo.astype(str)\n",
        "\n",
        "tempo_rede = tempo\n",
        "\n",
        "DPDU_Tx01 = df['DPDU Tx_x']\n",
        "DPDU_Tx_Fail01 = df['DPDU Tx Fail_x']\n",
        "RSSI_rede01 = df['RSSI_x']\n",
        "\n",
        "DPDU_Tx05 = df['DPDU Tx_y']\n",
        "DPDU_Tx_Fail05 = df['DPDU Tx Fail_y']\n",
        "RSSI_rede05 = df['RSSI_y']\n",
        "\n",
        "\n"
      ]
    },
    {
      "cell_type": "code",
      "execution_count": null,
      "metadata": {
        "id": "IpJDScqbgKxM",
        "colab": {
          "base_uri": "https://localhost:8080/",
          "height": 424
        },
        "outputId": "a4547929-8859-40e5-c2f7-389461d3372b"
      },
      "outputs": [
        {
          "output_type": "execute_result",
          "data": {
            "text/plain": [
              "      pacotes enviados 01  pacotes perdidos 01\n",
              "0                   551.0                 26.0\n",
              "1                   551.0                 26.0\n",
              "2                   551.0                 26.0\n",
              "3                   551.0                 26.0\n",
              "4                   551.0                 26.0\n",
              "...                   ...                  ...\n",
              "2950                  9.0                  0.0\n",
              "2951                  9.0                  0.0\n",
              "2952                  9.0                  0.0\n",
              "2953                  9.0                  0.0\n",
              "2954                  9.0                  0.0\n",
              "\n",
              "[2955 rows x 2 columns]"
            ],
            "text/html": [
              "\n",
              "  <div id=\"df-730bc043-2e28-429b-8a63-d78d3546c3be\">\n",
              "    <div class=\"colab-df-container\">\n",
              "      <div>\n",
              "<style scoped>\n",
              "    .dataframe tbody tr th:only-of-type {\n",
              "        vertical-align: middle;\n",
              "    }\n",
              "\n",
              "    .dataframe tbody tr th {\n",
              "        vertical-align: top;\n",
              "    }\n",
              "\n",
              "    .dataframe thead th {\n",
              "        text-align: right;\n",
              "    }\n",
              "</style>\n",
              "<table border=\"1\" class=\"dataframe\">\n",
              "  <thead>\n",
              "    <tr style=\"text-align: right;\">\n",
              "      <th></th>\n",
              "      <th>pacotes enviados 01</th>\n",
              "      <th>pacotes perdidos 01</th>\n",
              "    </tr>\n",
              "  </thead>\n",
              "  <tbody>\n",
              "    <tr>\n",
              "      <th>0</th>\n",
              "      <td>551.0</td>\n",
              "      <td>26.0</td>\n",
              "    </tr>\n",
              "    <tr>\n",
              "      <th>1</th>\n",
              "      <td>551.0</td>\n",
              "      <td>26.0</td>\n",
              "    </tr>\n",
              "    <tr>\n",
              "      <th>2</th>\n",
              "      <td>551.0</td>\n",
              "      <td>26.0</td>\n",
              "    </tr>\n",
              "    <tr>\n",
              "      <th>3</th>\n",
              "      <td>551.0</td>\n",
              "      <td>26.0</td>\n",
              "    </tr>\n",
              "    <tr>\n",
              "      <th>4</th>\n",
              "      <td>551.0</td>\n",
              "      <td>26.0</td>\n",
              "    </tr>\n",
              "    <tr>\n",
              "      <th>...</th>\n",
              "      <td>...</td>\n",
              "      <td>...</td>\n",
              "    </tr>\n",
              "    <tr>\n",
              "      <th>2950</th>\n",
              "      <td>9.0</td>\n",
              "      <td>0.0</td>\n",
              "    </tr>\n",
              "    <tr>\n",
              "      <th>2951</th>\n",
              "      <td>9.0</td>\n",
              "      <td>0.0</td>\n",
              "    </tr>\n",
              "    <tr>\n",
              "      <th>2952</th>\n",
              "      <td>9.0</td>\n",
              "      <td>0.0</td>\n",
              "    </tr>\n",
              "    <tr>\n",
              "      <th>2953</th>\n",
              "      <td>9.0</td>\n",
              "      <td>0.0</td>\n",
              "    </tr>\n",
              "    <tr>\n",
              "      <th>2954</th>\n",
              "      <td>9.0</td>\n",
              "      <td>0.0</td>\n",
              "    </tr>\n",
              "  </tbody>\n",
              "</table>\n",
              "<p>2955 rows × 2 columns</p>\n",
              "</div>\n",
              "      <button class=\"colab-df-convert\" onclick=\"convertToInteractive('df-730bc043-2e28-429b-8a63-d78d3546c3be')\"\n",
              "              title=\"Convert this dataframe to an interactive table.\"\n",
              "              style=\"display:none;\">\n",
              "        \n",
              "  <svg xmlns=\"http://www.w3.org/2000/svg\" height=\"24px\"viewBox=\"0 0 24 24\"\n",
              "       width=\"24px\">\n",
              "    <path d=\"M0 0h24v24H0V0z\" fill=\"none\"/>\n",
              "    <path d=\"M18.56 5.44l.94 2.06.94-2.06 2.06-.94-2.06-.94-.94-2.06-.94 2.06-2.06.94zm-11 1L8.5 8.5l.94-2.06 2.06-.94-2.06-.94L8.5 2.5l-.94 2.06-2.06.94zm10 10l.94 2.06.94-2.06 2.06-.94-2.06-.94-.94-2.06-.94 2.06-2.06.94z\"/><path d=\"M17.41 7.96l-1.37-1.37c-.4-.4-.92-.59-1.43-.59-.52 0-1.04.2-1.43.59L10.3 9.45l-7.72 7.72c-.78.78-.78 2.05 0 2.83L4 21.41c.39.39.9.59 1.41.59.51 0 1.02-.2 1.41-.59l7.78-7.78 2.81-2.81c.8-.78.8-2.07 0-2.86zM5.41 20L4 18.59l7.72-7.72 1.47 1.35L5.41 20z\"/>\n",
              "  </svg>\n",
              "      </button>\n",
              "      \n",
              "  <style>\n",
              "    .colab-df-container {\n",
              "      display:flex;\n",
              "      flex-wrap:wrap;\n",
              "      gap: 12px;\n",
              "    }\n",
              "\n",
              "    .colab-df-convert {\n",
              "      background-color: #E8F0FE;\n",
              "      border: none;\n",
              "      border-radius: 50%;\n",
              "      cursor: pointer;\n",
              "      display: none;\n",
              "      fill: #1967D2;\n",
              "      height: 32px;\n",
              "      padding: 0 0 0 0;\n",
              "      width: 32px;\n",
              "    }\n",
              "\n",
              "    .colab-df-convert:hover {\n",
              "      background-color: #E2EBFA;\n",
              "      box-shadow: 0px 1px 2px rgba(60, 64, 67, 0.3), 0px 1px 3px 1px rgba(60, 64, 67, 0.15);\n",
              "      fill: #174EA6;\n",
              "    }\n",
              "\n",
              "    [theme=dark] .colab-df-convert {\n",
              "      background-color: #3B4455;\n",
              "      fill: #D2E3FC;\n",
              "    }\n",
              "\n",
              "    [theme=dark] .colab-df-convert:hover {\n",
              "      background-color: #434B5C;\n",
              "      box-shadow: 0px 1px 3px 1px rgba(0, 0, 0, 0.15);\n",
              "      filter: drop-shadow(0px 1px 2px rgba(0, 0, 0, 0.3));\n",
              "      fill: #FFFFFF;\n",
              "    }\n",
              "  </style>\n",
              "\n",
              "      <script>\n",
              "        const buttonEl =\n",
              "          document.querySelector('#df-730bc043-2e28-429b-8a63-d78d3546c3be button.colab-df-convert');\n",
              "        buttonEl.style.display =\n",
              "          google.colab.kernel.accessAllowed ? 'block' : 'none';\n",
              "\n",
              "        async function convertToInteractive(key) {\n",
              "          const element = document.querySelector('#df-730bc043-2e28-429b-8a63-d78d3546c3be');\n",
              "          const dataTable =\n",
              "            await google.colab.kernel.invokeFunction('convertToInteractive',\n",
              "                                                     [key], {});\n",
              "          if (!dataTable) return;\n",
              "\n",
              "          const docLinkHtml = 'Like what you see? Visit the ' +\n",
              "            '<a target=\"_blank\" href=https://colab.research.google.com/notebooks/data_table.ipynb>data table notebook</a>'\n",
              "            + ' to learn more about interactive tables.';\n",
              "          element.innerHTML = '';\n",
              "          dataTable['output_type'] = 'display_data';\n",
              "          await google.colab.output.renderOutput(dataTable, element);\n",
              "          const docLink = document.createElement('div');\n",
              "          docLink.innerHTML = docLinkHtml;\n",
              "          element.appendChild(docLink);\n",
              "        }\n",
              "      </script>\n",
              "    </div>\n",
              "  </div>\n",
              "  "
            ]
          },
          "metadata": {},
          "execution_count": 18
        }
      ],
      "source": [
        "df2 =pd.DataFrame({\"pacotes enviados 01\":DPDU_Tx01,\n",
        "                   \"pacotes perdidos 01\":DPDU_Tx_Fail01})\n",
        "\n",
        "df3 = pd.DataFrame({ \"pacotes enviados 05\":DPDU_Tx05,\n",
        "                   \"pacotes perdidos 05\":DPDU_Tx_Fail05})\n",
        "\n",
        "df2"
      ]
    },
    {
      "cell_type": "markdown",
      "metadata": {
        "id": "RNCjlgc_zBEt"
      },
      "source": [
        "Código abaixo responsável por realizar o cálculo de perda real de pacote"
      ]
    },
    {
      "cell_type": "code",
      "execution_count": null,
      "metadata": {
        "id": "G_mMhg8wgKxN"
      },
      "outputs": [],
      "source": [
        "#Expressão para realizar calculo de perda de pacote\n",
        "rodada = True\n",
        "delta_df = pd.DataFrame()\n",
        "perdaPacote = pd.DataFrame()\n",
        "for indicie, linha in df.iterrows():\n",
        "    if indicie+1 < len(df2):\n",
        "        if (df2['pacotes enviados 01'].iloc[indicie] == df2['pacotes enviados 01'].iloc[indicie+1]) and rodada:\n",
        "            delta_df = df2.loc[indicie] - df2.loc[indicie]\n",
        "        elif df2['pacotes enviados 01'].iloc[indicie] != df2['pacotes enviados 01'].iloc[indicie+1]:\n",
        "            delta_df = df2.iloc[indicie+1] - df2.iloc[indicie]\n",
        "            rodada = False\n",
        "            #perdaPacote = perdaPacote.append(df2.loc[indicie], ignore_index= True)\n",
        "        elif (df2['pacotes enviados 01'].iloc[indicie] == df2['pacotes enviados 01'].iloc[indicie+1]) and not(rodada):\n",
        "            delta_df\n",
        "        \n",
        "        perdaPacote = perdaPacote.append(delta_df, ignore_index= True)\n",
        "\n",
        "perdaPacote = perdaPacote.append(delta_df, ignore_index= True)\n",
        "DPDU_Tx_Fail01 = perdaPacote[\"pacotes perdidos 01\"]\n",
        "DPDU_Tx01 = perdaPacote[\"pacotes enviados 01\"]               \n"
      ]
    },
    {
      "cell_type": "code",
      "execution_count": null,
      "metadata": {
        "id": "6Z_AuRjWvQXX"
      },
      "outputs": [],
      "source": [
        "#Expressão para realizar calculo de perda de pacote\n",
        "rodada = True\n",
        "delta_df = pd.DataFrame()\n",
        "perdaPacote = pd.DataFrame()\n",
        "for indicie, linha in df.iterrows():\n",
        "    if indicie+1 < len(df3):\n",
        "        if (df3['pacotes enviados 05'].iloc[indicie] == df3['pacotes enviados 05'].iloc[indicie+1]) and rodada:\n",
        "            delta_df = df3.loc[indicie] - df3.loc[indicie]\n",
        "        elif df3['pacotes enviados 05'].iloc[indicie] != df3['pacotes enviados 05'].iloc[indicie+1]:\n",
        "            delta_df = df3.iloc[indicie+1] - df3.iloc[indicie]\n",
        "            rodada = False\n",
        "        elif (df3['pacotes enviados 05'].iloc[indicie] == df3['pacotes enviados 05'].iloc[indicie+1]) and not(rodada):\n",
        "            delta_df\n",
        "        \n",
        "        perdaPacote = perdaPacote.append(delta_df, ignore_index= True)\n",
        "\n",
        "perdaPacote = perdaPacote.append(delta_df, ignore_index= True)       \n",
        "DPDU_Tx_Fail05 = perdaPacote[\"pacotes perdidos 05\"]\n",
        "DPDU_Tx05 = perdaPacote[\"pacotes enviados 05\"]  \n",
        "\n"
      ]
    },
    {
      "cell_type": "code",
      "execution_count": null,
      "metadata": {
        "id": "pOG0dEKzgKxO"
      },
      "outputs": [],
      "source": [
        "erro = (abs(Nivel_tank-Setpoint)/Setpoint)*100\n",
        "DPDU_Total01 = DPDU_Tx01 + DPDU_Tx_Fail01\n",
        "DPDU_Total05 = DPDU_Tx05 + DPDU_Tx_Fail05\n",
        "PDRI01 = (DPDU_Tx01/DPDU_Total01) * 100\n",
        "PDRI05 = (DPDU_Tx05/DPDU_Total05) * 100\n",
        "Saida = Saida*(3.3/1024)\n"
      ]
    },
    {
      "cell_type": "code",
      "source": [
        "tempo"
      ],
      "metadata": {
        "id": "P9hYLVQGcrXj",
        "colab": {
          "base_uri": "https://localhost:8080/"
        },
        "outputId": "98f8fae8-1125-424b-a4bf-7b67b914ebc4"
      },
      "execution_count": null,
      "outputs": [
        {
          "output_type": "execute_result",
          "data": {
            "text/plain": [
              "0      2022-10-19 10:41:49\n",
              "1      2022-10-19 10:42:00\n",
              "2      2022-10-19 10:42:01\n",
              "3      2022-10-19 10:42:02\n",
              "4      2022-10-19 10:42:03\n",
              "               ...        \n",
              "2950   2022-10-19 11:31:09\n",
              "2951   2022-10-19 11:31:10\n",
              "2952   2022-10-19 11:31:11\n",
              "2953   2022-10-19 11:31:12\n",
              "2954   2022-10-19 11:31:13\n",
              "Name: Date, Length: 2955, dtype: datetime64[ns]"
            ]
          },
          "metadata": {},
          "execution_count": 22
        }
      ]
    },
    {
      "cell_type": "markdown",
      "metadata": {
        "id": "Cl1IKFjiKlHj"
      },
      "source": [
        "### Plot dos gráficos"
      ]
    },
    {
      "cell_type": "code",
      "execution_count": null,
      "metadata": {
        "id": "4ZA4n34kZbe5",
        "colab": {
          "base_uri": "https://localhost:8080/",
          "height": 881
        },
        "outputId": "7513d85a-ae59-473d-b788-5089dd65195f"
      },
      "outputs": [
        {
          "output_type": "display_data",
          "data": {
            "text/plain": [
              "<Figure size 2160x1080 with 4 Axes>"
            ],
            "image/png": "[encoded data removed]"
          },
          "metadata": {
            "needs_background": "light"
          }
        }
      ],
      "source": [
        "\n",
        "fig, ax= plt.subplots(nrows=3, ncols=1, figsize=(30,15))\n",
        "\n",
        "\n",
        "ax[0].scatter(tempo_rede, PDRI01, label = 'link 1', color = '#0000FF', s= 0.7)\n",
        "ax[0].scatter(tempo_rede, PDRI05, label = 'link 2', color = '#008000', s= 0.7)\n",
        "\n",
        "ax[0].set_xlabel('Tempo')\n",
        "ax[0].set_ylabel('PDRI')\n",
        "ax[0].legend(['link 1', 'link 2', 'Erro'], loc='upper left')\n",
        "\n",
        "aux = ax[0].twinx() #método para criar dois eixos y\n",
        "aux.plot(tempo, erro, label = 'Erro', color = 'black', linewidth=1)\n",
        "aux.legend()\n",
        "aux.set_ylabel('Erro (%)')\n",
        "aux.set_ylim(0, 20)\n",
        "\n",
        "#ax[0].legend(handles=[line1], loc='upper right')\n",
        "\n",
        "ax[1].scatter(tempo_rede, RSSI_rede01, label = 'RSSI_01', s= 1, color = '#0000FF')\n",
        "ax[1].scatter(tempo_rede, RSSI_rede05, label = 'RSSI_05', s= 1, color = '#008000')\n",
        "ax[1].set_ylim(ymin = -100, ymax= -20)\n",
        "ax[1].set_ylabel('RSSI')\n",
        "ax[1].legend() #legenda do gráfico\n",
        "\n",
        "ax[2].plot(tempo, Setpoint, label = 'Setpoint', color = 'black', linewidth=1)\n",
        "ax[2].plot(tempo, Nivel_tank, label = 'Níve do tank', color = 'red', linewidth=1)\n",
        "ax[2].legend() #legenda do gráfico\n",
        "ax[2].set_xlabel('Tempo')\n",
        "ax[2].set_ylabel('cm')\n",
        "ax[2].set_ylim(ymin = 90, ymax= 120)\n",
        "ax[2].grid(True)\n",
        "#(13h36, 13h45; 13h53, 13h 57, 14h03; 14h16, 14h20, 14h29; 14h40, 14h43, 14h49 )\n",
        "\n",
        "for i in range(3):\n",
        "  ax[i].axvline(pd.Timestamp(\"2022-10-19 10:43:00\"),ls='--', color = 'g')\n",
        "  ax[i].axvline(pd.Timestamp(\"2022-10-19 10:54:00\"),ls='--', color = 'r')\n",
        "\n",
        "  ax[i].axvline(pd.Timestamp(\"2022-10-19 10:59:00\"),ls='--', color = 'g')\n",
        "\n",
        "  ax[i].axvline(pd.Timestamp(\"2022-10-19 11:04:00\"),ls='--', color = 'm')\n",
        "  ax[i].axvline(pd.Timestamp(\"2022-10-19 11:05:00\"),ls='--', color = 'b')\n",
        "  \n",
        "  ax[i].axvline(pd.Timestamp(\"2022-10-19 11:06:00\"),ls='--', color = 'm')\n",
        "  ax[i].axvline(pd.Timestamp(\"2022-10-19 11:07:00\"),ls='--', color = 'b')\n",
        "\n",
        "  ax[i].axvline(pd.Timestamp(\"2022-10-19 11:10:00\"),ls='--', color = 'm')\n",
        "\n",
        "  ax[i].axvline(pd.Timestamp(\"2022-10-19 11:13:00\"),ls='--', color = 'r')\n",
        "\n",
        "  ax[i].axvline(pd.Timestamp(\"2022-10-19 11:17:00\"),ls='--', color = 'g')\n",
        "  ax[i].axvline(pd.Timestamp(\"2022-10-19 11:30:00\"),ls='--', color = 'r')\n",
        "\n",
        "\n",
        "\n",
        "plt.legend()\n",
        "figrede = plt.gcf() \n",
        "plt.show()"
      ]
    },
    {
      "cell_type": "code",
      "execution_count": null,
      "metadata": {
        "id": "V7_yM4efMx1n",
        "colab": {
          "base_uri": "https://localhost:8080/",
          "height": 351
        },
        "outputId": "6f32e4e1-6773-4baa-8e5e-0c7ee4776a4e"
      },
      "outputs": [
        {
          "output_type": "execute_result",
          "data": {
            "text/plain": [
              "<matplotlib.legend.Legend at 0x7f05649a0210>"
            ]
          },
          "metadata": {},
          "execution_count": 24
        },
        {
          "output_type": "display_data",
          "data": {
            "text/plain": [
              "<Figure size 2160x360 with 1 Axes>"
            ],
            "image/png": "[encoded data removed]"
          },
          "metadata": {
            "needs_background": "light"
          }
        }
      ],
      "source": [
        "#Aplicando média móvel na análise\n",
        "erro_movel = erro.rolling(30).mean()\n",
        "erro_desvio_padrao = erro.rolling(30).std()\n",
        "\n",
        "fig, ax= plt.subplots( figsize=(30,5))\n",
        "\n",
        "ax.plot(tempo, erro_movel, color='black', label = 'Média Móvel (%)')\n",
        "ax.plot(tempo, erro_desvio_padrao, color='blue', label = 'Desvio Padrão (%)')\n",
        "\n",
        "ax.set_xlabel('Tempo')\n",
        "ax.set_ylabel('Erro')\n",
        "ax.axhline(2,ls='--', color = 'r')\n",
        "\n",
        "#ax.axvline(pd.Timestamp(\"2022-08-16  16:24:00\"),ls='--', color = 'g')\n",
        "#ax.axvline(pd.Timestamp(\"2022-08-16  16:33:00\"),ls='--', color = 'r')\n",
        "#ax.axvline(pd.Timestamp(\"2022-08-16  16:40:00\"),ls='--', color = 'g')\n",
        "#ax.axvline(pd.Timestamp(\"2022-08-16  16:45:00\"),ls='--', color = 'r')\n",
        "\n",
        "plt.legend()"
      ]
    },
    {
      "cell_type": "code",
      "source": [
        "df_final = pd.DataFrame({ \"data\":tempo,\n",
        "                          \"RSSI_0\":RSSI_rede01,\n",
        "                          \"RSSI_1\":RSSI_rede05,\n",
        "                          \"PDRI_0\":PDRI01,\n",
        "                          \"PDRI_1\":PDRI05,\n",
        "                          \"erro\":erro\n",
        "                        })\n",
        "df_final.sample(7)"
      ],
      "metadata": {
        "colab": {
          "base_uri": "https://localhost:8080/",
          "height": 269
        },
        "id": "blRfkRjj9ddL",
        "outputId": "35c88ca6-9c3e-4f01-eaa7-129b0d7a9f4f"
      },
      "execution_count": null,
      "outputs": [
        {
          "output_type": "execute_result",
          "data": {
            "text/plain": [
              "                    data  RSSI_0  RSSI_1     PDRI_0      PDRI_1  erro\n",
              "2183 2022-10-19 11:18:22   -62.0   -60.0  97.142857  100.000000  0.26\n",
              "901  2022-10-19 10:57:00   -81.0   -79.0  87.837838   95.238095  0.34\n",
              "145  2022-10-19 10:44:24   -64.0   -59.0  98.484848   99.248120  0.39\n",
              "251  2022-10-19 10:46:10   -79.0   -77.0  93.150685   95.238095  1.33\n",
              "225  2022-10-19 10:45:44   -71.0   -68.0  93.150685   95.238095  2.00\n",
              "2760 2022-10-19 11:27:59   -62.0   -60.0  97.142857  100.000000  0.26\n",
              "728  2022-10-19 10:54:07   -91.0   -90.0  69.879518   89.808917  0.40"
            ],
            "text/html": [
              "\n",
              "  <div id=\"df-c8b5e30d-98ec-4a82-96e7-06892d2c95c3\">\n",
              "    <div class=\"colab-df-container\">\n",
              "      <div>\n",
              "<style scoped>\n",
              "    .dataframe tbody tr th:only-of-type {\n",
              "        vertical-align: middle;\n",
              "    }\n",
              "\n",
              "    .dataframe tbody tr th {\n",
              "        vertical-align: top;\n",
              "    }\n",
              "\n",
              "    .dataframe thead th {\n",
              "        text-align: right;\n",
              "    }\n",
              "</style>\n",
              "<table border=\"1\" class=\"dataframe\">\n",
              "  <thead>\n",
              "    <tr style=\"text-align: right;\">\n",
              "      <th></th>\n",
              "      <th>data</th>\n",
              "      <th>RSSI_0</th>\n",
              "      <th>RSSI_1</th>\n",
              "      <th>PDRI_0</th>\n",
              "      <th>PDRI_1</th>\n",
              "      <th>erro</th>\n",
              "    </tr>\n",
              "  </thead>\n",
              "  <tbody>\n",
              "    <tr>\n",
              "      <th>2183</th>\n",
              "      <td>2022-10-19 11:18:22</td>\n",
              "      <td>-62.0</td>\n",
              "      <td>-60.0</td>\n",
              "      <td>97.142857</td>\n",
              "      <td>100.000000</td>\n",
              "      <td>0.26</td>\n",
              "    </tr>\n",
              "    <tr>\n",
              "      <th>901</th>\n",
              "      <td>2022-10-19 10:57:00</td>\n",
              "      <td>-81.0</td>\n",
              "      <td>-79.0</td>\n",
              "      <td>87.837838</td>\n",
              "      <td>95.238095</td>\n",
              "      <td>0.34</td>\n",
              "    </tr>\n",
              "    <tr>\n",
              "      <th>145</th>\n",
              "      <td>2022-10-19 10:44:24</td>\n",
              "      <td>-64.0</td>\n",
              "      <td>-59.0</td>\n",
              "      <td>98.484848</td>\n",
              "      <td>99.248120</td>\n",
              "      <td>0.39</td>\n",
              "    </tr>\n",
              "    <tr>\n",
              "      <th>251</th>\n",
              "      <td>2022-10-19 10:46:10</td>\n",
              "      <td>-79.0</td>\n",
              "      <td>-77.0</td>\n",
              "      <td>93.150685</td>\n",
              "      <td>95.238095</td>\n",
              "      <td>1.33</td>\n",
              "    </tr>\n",
              "    <tr>\n",
              "      <th>225</th>\n",
              "      <td>2022-10-19 10:45:44</td>\n",
              "      <td>-71.0</td>\n",
              "      <td>-68.0</td>\n",
              "      <td>93.150685</td>\n",
              "      <td>95.238095</td>\n",
              "      <td>2.00</td>\n",
              "    </tr>\n",
              "    <tr>\n",
              "      <th>2760</th>\n",
              "      <td>2022-10-19 11:27:59</td>\n",
              "      <td>-62.0</td>\n",
              "      <td>-60.0</td>\n",
              "      <td>97.142857</td>\n",
              "      <td>100.000000</td>\n",
              "      <td>0.26</td>\n",
              "    </tr>\n",
              "    <tr>\n",
              "      <th>728</th>\n",
              "      <td>2022-10-19 10:54:07</td>\n",
              "      <td>-91.0</td>\n",
              "      <td>-90.0</td>\n",
              "      <td>69.879518</td>\n",
              "      <td>89.808917</td>\n",
              "      <td>0.40</td>\n",
              "    </tr>\n",
              "  </tbody>\n",
              "</table>\n",
              "</div>\n",
              "      <button class=\"colab-df-convert\" onclick=\"convertToInteractive('df-c8b5e30d-98ec-4a82-96e7-06892d2c95c3')\"\n",
              "              title=\"Convert this dataframe to an interactive table.\"\n",
              "              style=\"display:none;\">\n",
              "        \n",
              "  <svg xmlns=\"http://www.w3.org/2000/svg\" height=\"24px\"viewBox=\"0 0 24 24\"\n",
              "       width=\"24px\">\n",
              "    <path d=\"M0 0h24v24H0V0z\" fill=\"none\"/>\n",
              "    <path d=\"M18.56 5.44l.94 2.06.94-2.06 2.06-.94-2.06-.94-.94-2.06-.94 2.06-2.06.94zm-11 1L8.5 8.5l.94-2.06 2.06-.94-2.06-.94L8.5 2.5l-.94 2.06-2.06.94zm10 10l.94 2.06.94-2.06 2.06-.94-2.06-.94-.94-2.06-.94 2.06-2.06.94z\"/><path d=\"M17.41 7.96l-1.37-1.37c-.4-.4-.92-.59-1.43-.59-.52 0-1.04.2-1.43.59L10.3 9.45l-7.72 7.72c-.78.78-.78 2.05 0 2.83L4 21.41c.39.39.9.59 1.41.59.51 0 1.02-.2 1.41-.59l7.78-7.78 2.81-2.81c.8-.78.8-2.07 0-2.86zM5.41 20L4 18.59l7.72-7.72 1.47 1.35L5.41 20z\"/>\n",
              "  </svg>\n",
              "      </button>\n",
              "      \n",
              "  <style>\n",
              "    .colab-df-container {\n",
              "      display:flex;\n",
              "      flex-wrap:wrap;\n",
              "      gap: 12px;\n",
              "    }\n",
              "\n",
              "    .colab-df-convert {\n",
              "      background-color: #E8F0FE;\n",
              "      border: none;\n",
              "      border-radius: 50%;\n",
              "      cursor: pointer;\n",
              "      display: none;\n",
              "      fill: #1967D2;\n",
              "      height: 32px;\n",
              "      padding: 0 0 0 0;\n",
              "      width: 32px;\n",
              "    }\n",
              "\n",
              "    .colab-df-convert:hover {\n",
              "      background-color: #E2EBFA;\n",
              "      box-shadow: 0px 1px 2px rgba(60, 64, 67, 0.3), 0px 1px 3px 1px rgba(60, 64, 67, 0.15);\n",
              "      fill: #174EA6;\n",
              "    }\n",
              "\n",
              "    [theme=dark] .colab-df-convert {\n",
              "      background-color: #3B4455;\n",
              "      fill: #D2E3FC;\n",
              "    }\n",
              "\n",
              "    [theme=dark] .colab-df-convert:hover {\n",
              "      background-color: #434B5C;\n",
              "      box-shadow: 0px 1px 3px 1px rgba(0, 0, 0, 0.15);\n",
              "      filter: drop-shadow(0px 1px 2px rgba(0, 0, 0, 0.3));\n",
              "      fill: #FFFFFF;\n",
              "    }\n",
              "  </style>\n",
              "\n",
              "      <script>\n",
              "        const buttonEl =\n",
              "          document.querySelector('#df-c8b5e30d-98ec-4a82-96e7-06892d2c95c3 button.colab-df-convert');\n",
              "        buttonEl.style.display =\n",
              "          google.colab.kernel.accessAllowed ? 'block' : 'none';\n",
              "\n",
              "        async function convertToInteractive(key) {\n",
              "          const element = document.querySelector('#df-c8b5e30d-98ec-4a82-96e7-06892d2c95c3');\n",
              "          const dataTable =\n",
              "            await google.colab.kernel.invokeFunction('convertToInteractive',\n",
              "                                                     [key], {});\n",
              "          if (!dataTable) return;\n",
              "\n",
              "          const docLinkHtml = 'Like what you see? Visit the ' +\n",
              "            '<a target=\"_blank\" href=https://colab.research.google.com/notebooks/data_table.ipynb>data table notebook</a>'\n",
              "            + ' to learn more about interactive tables.';\n",
              "          element.innerHTML = '';\n",
              "          dataTable['output_type'] = 'display_data';\n",
              "          await google.colab.output.renderOutput(dataTable, element);\n",
              "          const docLink = document.createElement('div');\n",
              "          docLink.innerHTML = docLinkHtml;\n",
              "          element.appendChild(docLink);\n",
              "        }\n",
              "      </script>\n",
              "    </div>\n",
              "  </div>\n",
              "  "
            ]
          },
          "metadata": {},
          "execution_count": 25
        }
      ]
    },
    {
      "cell_type": "code",
      "execution_count": null,
      "metadata": {
        "id": "7UdtN_51HL3V"
      },
      "outputs": [],
      "source": [
        "figrede.savefig('plot_dados.pdf', format='pdf')\n",
        "df_final.to_csv('Dados_para_modelo.csv')"
      ]
    }
  ],
  "metadata": {
    "colab": {
      "collapsed_sections": [],
      "provenance": [],
      "include_colab_link": true
    },
    "interpreter": {
      "hash": "ae4a5f8e8e9314f898b314ea49e4c88cae1ce4f7af040980174d86354bdfad43"
    },
    "kernelspec": {
      "display_name": "Python 3.10.2 64-bit",
      "language": "python",
      "name": "python3"
    },
    "language_info": {
      "codemirror_mode": {
        "name": "ipython",
        "version": 3
      },
      "file_extension": ".py",
      "mimetype": "text/x-python",
      "name": "python",
      "nbconvert_exporter": "python",
      "pygments_lexer": "ipython3",
      "version": "3.10.2"
    }
  },
  "nbformat": 4,
  "nbformat_minor": 0
}